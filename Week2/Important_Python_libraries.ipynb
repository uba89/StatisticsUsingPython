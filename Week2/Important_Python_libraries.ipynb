{
 "cells": [
  {
   "cell_type": "markdown",
   "metadata": {},
   "source": [
    "<h1> Numpy Array </h1>"
   ]
  },
  {
   "cell_type": "code",
   "execution_count": 2,
   "metadata": {},
   "outputs": [],
   "source": [
    "import numpy as np"
   ]
  },
  {
   "cell_type": "code",
   "execution_count": 3,
   "metadata": {
    "scrolled": false
   },
   "outputs": [
    {
     "name": "stdout",
     "output_type": "stream",
     "text": [
      "<class 'numpy.ndarray'>\n"
     ]
    }
   ],
   "source": [
    "a = np.array([1,2,3])\n",
    "\n",
    "print(type(a))"
   ]
  },
  {
   "cell_type": "code",
   "execution_count": 4,
   "metadata": {},
   "outputs": [
    {
     "name": "stdout",
     "output_type": "stream",
     "text": [
      "[[1 2]\n",
      " [3 4]]\n",
      "(2, 2)\n"
     ]
    },
    {
     "data": {
      "text/plain": [
       "3"
      ]
     },
     "execution_count": 4,
     "metadata": {},
     "output_type": "execute_result"
    }
   ],
   "source": [
    "b = np.array([[1,2],[3,4]])\n",
    "\n",
    "print(b)\n",
    "\n",
    "print(np.shape(b))\n",
    "\n",
    "b[1,0]"
   ]
  },
  {
   "cell_type": "code",
   "execution_count": 5,
   "metadata": {},
   "outputs": [
    {
     "name": "stdout",
     "output_type": "stream",
     "text": [
      "[[0. 0.]\n",
      " [0. 0.]\n",
      " [0. 0.]]\n"
     ]
    }
   ],
   "source": [
    "c = np.zeros((3,2))\n",
    "print(c)"
   ]
  },
  {
   "cell_type": "code",
   "execution_count": 6,
   "metadata": {},
   "outputs": [
    {
     "name": "stdout",
     "output_type": "stream",
     "text": [
      "[[1. 1.]\n",
      " [1. 1.]\n",
      " [1. 1.]]\n"
     ]
    }
   ],
   "source": [
    "d = np.ones((3,2))\n",
    "print(d)"
   ]
  },
  {
   "cell_type": "code",
   "execution_count": 7,
   "metadata": {},
   "outputs": [
    {
     "name": "stdout",
     "output_type": "stream",
     "text": [
      "[[9 9 9]\n",
      " [9 9 9]\n",
      " [9 9 9]]\n"
     ]
    }
   ],
   "source": [
    "e = np.full((3,3), 9)\n",
    "print(e)"
   ]
  },
  {
   "cell_type": "code",
   "execution_count": 9,
   "metadata": {},
   "outputs": [
    {
     "name": "stdout",
     "output_type": "stream",
     "text": [
      "[[0.65546467 0.05683466 0.78166903]\n",
      " [0.51064362 0.1531407  0.06739956]\n",
      " [0.3168113  0.47053271 0.10444373]]\n"
     ]
    }
   ],
   "source": [
    "g = np.random.random((3,3))\n",
    "\n",
    "print(g)"
   ]
  },
  {
   "cell_type": "markdown",
   "metadata": {},
   "source": [
    "<b> Array Indexing </b>"
   ]
  },
  {
   "cell_type": "code",
   "execution_count": 11,
   "metadata": {},
   "outputs": [
    {
     "name": "stdout",
     "output_type": "stream",
     "text": [
      "[[ 1  2  3  4]\n",
      " [ 5  6  7  8]\n",
      " [ 9 10 11 12]]\n"
     ]
    }
   ],
   "source": [
    "h = np.array([[1,2,3,4],[5,6,7,8],[9,10,11,12]])\n",
    "print(h)"
   ]
  },
  {
   "cell_type": "code",
   "execution_count": 19,
   "metadata": {},
   "outputs": [
    {
     "data": {
      "text/plain": [
       "array([[2, 3],\n",
       "       [6, 7]])"
      ]
     },
     "execution_count": 19,
     "metadata": {},
     "output_type": "execute_result"
    }
   ],
   "source": [
    "h[:2,1:3]"
   ]
  },
  {
   "cell_type": "code",
   "execution_count": 20,
   "metadata": {},
   "outputs": [
    {
     "name": "stdout",
     "output_type": "stream",
     "text": [
      "[[ 1  2  3  4]\n",
      " [ 5  6  7  8]\n",
      " [ 9 10 11 12]]\n"
     ]
    }
   ],
   "source": [
    "h = np.array([[1,2,3,4],[5,6,7,8],[9,10,11,12]])\n",
    "print(h)\n"
   ]
  },
  {
   "cell_type": "code",
   "execution_count": 22,
   "metadata": {},
   "outputs": [
    {
     "name": "stdout",
     "output_type": "stream",
     "text": [
      "[[2 3]\n",
      " [6 7]]\n"
     ]
    }
   ],
   "source": [
    "i= h[:2,1:3]\n",
    "print(i)"
   ]
  },
  {
   "cell_type": "code",
   "execution_count": 25,
   "metadata": {},
   "outputs": [],
   "source": [
    "i[0,0] = 500"
   ]
  },
  {
   "cell_type": "code",
   "execution_count": 27,
   "metadata": {},
   "outputs": [
    {
     "name": "stdout",
     "output_type": "stream",
     "text": [
      "[[  1 500   3   4]\n",
      " [  5   6   7   8]\n",
      " [  9  10  11  12]]\n"
     ]
    }
   ],
   "source": [
    "print(h)"
   ]
  },
  {
   "cell_type": "markdown",
   "metadata": {},
   "source": [
    "<b>Data Types </b>"
   ]
  },
  {
   "cell_type": "code",
   "execution_count": 33,
   "metadata": {},
   "outputs": [
    {
     "name": "stdout",
     "output_type": "stream",
     "text": [
      "int64\n",
      "float64\n",
      "int64\n"
     ]
    }
   ],
   "source": [
    "j = np.array([1,2])\n",
    "\n",
    "print(j.dtype)\n",
    "\n",
    "k = np.array([1.0,2.0])\n",
    "\n",
    "print(k.dtype)\n",
    "\n",
    "l = np.array([1.0,2.0], dtype = np.int64)\n",
    "\n",
    "print(l.dtype)"
   ]
  },
  {
   "cell_type": "markdown",
   "metadata": {},
   "source": [
    "<b> Array Math </b>"
   ]
  },
  {
   "cell_type": "code",
   "execution_count": 42,
   "metadata": {},
   "outputs": [
    {
     "name": "stdout",
     "output_type": "stream",
     "text": [
      "[[1. 2.]\n",
      " [3. 4.]]\n",
      "[[5. 6.]\n",
      " [7. 8.]]\n",
      "[[ 6.  8.]\n",
      " [10. 12.]]\n",
      "[[-4. -4.]\n",
      " [-4. -4.]]\n",
      "[[ 5. 12.]\n",
      " [21. 32.]]\n",
      "[[0.2        0.33333333]\n",
      " [0.42857143 0.5       ]]\n"
     ]
    }
   ],
   "source": [
    "x = np.array([[1,2],[3,4]], dtype=np.float64)\n",
    "y = np.array([[5,6],[7,8]], dtype=np.float64)\n",
    "print(x)\n",
    "print(y)\n",
    "print(x+y)\n",
    "print(x-y)\n",
    "print(x*y)\n",
    "print(x/y)"
   ]
  },
  {
   "cell_type": "code",
   "execution_count": 48,
   "metadata": {},
   "outputs": [
    {
     "name": "stdout",
     "output_type": "stream",
     "text": [
      "[4. 6.]\n",
      "[3. 7.]\n"
     ]
    }
   ],
   "source": [
    "print(np.sum(x, axis = 0)) #0 is for adding column and 1 for row\n",
    "print(np.sum(x, axis = 1))"
   ]
  },
  {
   "cell_type": "markdown",
   "metadata": {},
   "source": [
    "<h1> SciPy </h1>"
   ]
  },
  {
   "cell_type": "code",
   "execution_count": 50,
   "metadata": {},
   "outputs": [],
   "source": [
    "from scipy import stats\n",
    "import numpy as np"
   ]
  },
  {
   "cell_type": "code",
   "execution_count": 52,
   "metadata": {},
   "outputs": [
    {
     "name": "stdout",
     "output_type": "stream",
     "text": [
      "[ 0.22690702  0.07799195 -0.55854009  0.51544932  0.11734384 -0.40177332\n",
      " -0.02153786  0.34748324 -1.64006611 -1.61884565 -1.52825336  0.32037922\n",
      "  0.06411989 -0.65467859 -0.69368391  0.61593058 -1.29368246  0.25940548\n",
      "  0.35912672 -0.33960047  0.30307245  0.34190883 -0.37243763  0.53309785\n",
      " -1.42903598  0.35973319 -0.23231367 -1.59621811 -0.09455816  0.06464986\n",
      " -0.27653933 -1.47662109  0.73868857  0.6480115  -0.279571    0.23368133\n",
      "  0.66858128  0.68760615  1.18785704 -0.76013592  1.68651397 -0.66440069\n",
      " -0.01186531  0.9821099   0.03931262  0.03279813 -0.75679465 -0.77838542\n",
      "  0.22698679  0.43277193 -0.18081711  1.75633935 -0.65666204  0.23921042\n",
      " -1.37228053 -0.24779946  0.17541794 -0.90333923 -0.5705735   0.36158862\n",
      " -0.88435495  0.46976736 -0.14020689  0.79128942 -0.22940968 -0.76133658\n",
      "  0.42364441 -1.14376499  1.09747789  0.36765119  0.04366583  0.5517973\n",
      "  0.48026878  1.75871147 -0.55974433 -0.78027853 -0.39688067 -0.56713126\n",
      "  0.97708436 -1.10927904 -0.49955333  1.3267673  -0.03219909  0.79338828\n",
      "  0.52949368  1.70597224 -0.64362237  1.22685641  1.23404687 -0.21333794\n",
      "  0.01923515 -0.33899525  0.92360948 -1.5402078  -1.1001681  -0.15006838\n",
      "  1.03429467  0.73787614 -2.0316112  -0.98780775]\n"
     ]
    }
   ],
   "source": [
    "print(stats.norm.rvs(size=100)) # norm==normal, rvs=random variable"
   ]
  },
  {
   "cell_type": "code",
   "execution_count": 56,
   "metadata": {},
   "outputs": [
    {
     "data": {
      "image/png": "[encoded data removed]",
      "text/plain": [
       "<Figure size 432x288 with 1 Axes>"
      ]
     },
     "metadata": {},
     "output_type": "display_data"
    }
   ],
   "source": [
    "### PDF and CDF Example\n",
    "\n",
    "from pylab import *\n",
    "\n",
    "#Create some test data\n",
    "dx =.01\n",
    "X = np.arange(-2,2,dx)\n",
    "Y = exp(-X**2)\n",
    "\n",
    "# Normalize the test data\n",
    "Y /= (dx*Y).sum()\n",
    "\n",
    "# Compute the CDF\n",
    "CY = np.cumsum(Y*dx)\n",
    "\n",
    "# Plot both\n",
    "plot(X,Y)\n",
    "plot(X,CY,'r--')\n",
    "\n",
    "show()"
   ]
  },
  {
   "cell_type": "code",
   "execution_count": 58,
   "metadata": {},
   "outputs": [
    {
     "name": "stdout",
     "output_type": "stream",
     "text": [
      "[0.0668072  0.30853754 0.5        0.84134475 0.9331928  0.97724987\n",
      " 1.        ]\n"
     ]
    }
   ],
   "source": [
    "print(stats.norm.cdf(np.array([-1.5,-.5,0,1,1.5,2,6])))"
   ]
  },
  {
   "cell_type": "markdown",
   "metadata": {},
   "source": [
    "<b> Descriptive Statistics </b>"
   ]
  },
  {
   "cell_type": "code",
   "execution_count": 59,
   "metadata": {},
   "outputs": [],
   "source": [
    "np.random.seed(1234)\n",
    "\n",
    "x = stats.t.rvs(10, size = 1000)"
   ]
  },
  {
   "cell_type": "code",
   "execution_count": 63,
   "metadata": {},
   "outputs": [
    {
     "name": "stdout",
     "output_type": "stream",
     "text": [
      "-3.7081318682862507\n",
      "5.489762351653657\n",
      "0.03301501424446721\n"
     ]
    },
    {
     "data": {
      "text/plain": [
       "DescribeResult(nobs=1000, minmax=(-3.7081318682862507, 5.489762351653657), mean=0.03301501424446721, variance=1.2180596486677358, skewness=0.017360162164788, kurtosis=0.9792361694613958)"
      ]
     },
     "execution_count": 63,
     "metadata": {},
     "output_type": "execute_result"
    }
   ],
   "source": [
    "print(x.min())\n",
    "print(x.max())\n",
    "print(x.mean())\n",
    "\n",
    "\n",
    "stats.describe(x)"
   ]
  }
 ],
 "metadata": {
  "kernelspec": {
   "display_name": "Python 3",
   "language": "python",
   "name": "python3"
  },
  "language_info": {
   "codemirror_mode": {
    "name": "ipython",
    "version": 3
   },
   "file_extension": ".py",
   "mimetype": "text/x-python",
   "name": "python",
   "nbconvert_exporter": "python",
   "pygments_lexer": "ipython3",
   "version": "3.5.2"
  }
 },
 "nbformat": 4,
 "nbformat_minor": 2
}
